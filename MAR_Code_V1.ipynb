{
  "nbformat": 4,
  "nbformat_minor": 0,
  "metadata": {
    "colab": {
      "name": "MAR_Code_V1.ipynb",
      "provenance": [],
      "collapsed_sections": [],
      "authorship_tag": "ABX9TyM6kw9w929IQ1JrG2VOjbif",
      "include_colab_link": true
    },
    "kernelspec": {
      "name": "python3",
      "display_name": "Python 3"
    }
  },
  "cells": [
    {
      "cell_type": "markdown",
      "metadata": {
        "id": "view-in-github",
        "colab_type": "text"
      },
      "source": [
        "<a href=\"https://colab.research.google.com/github/nauam/UnB_MAR/blob/main/MAR_Code_V1.ipynb\" target=\"_parent\"><img src=\"https://colab.research.google.com/assets/colab-badge.svg\" alt=\"Open In Colab\"/></a>"
      ]
    },
    {
      "cell_type": "code",
      "metadata": {
        "id": "voYCjbOirZ9X"
      },
      "source": [
        "from numpy import sin, cos, sinc, pi, log10, diag, matmul as mult, array, zeros, ones, eye, sqrt, reshape, size, arange, amax\r\n",
        "from numpy.linalg  import inv, norm\r\n",
        "from scipy.special import spherical_jn, spherical_yn, lpmn\r\n",
        "import matplotlib.pyplot as plt\r\n",
        "from tqdm import tqdm\r\n",
        "import pandas as pd"
      ],
      "execution_count": 1,
      "outputs": []
    },
    {
      "cell_type": "code",
      "metadata": {
        "id": "AfuT8x1Ysc7j"
      },
      "source": [
        "def F_Q(u,n,theta):\r\n",
        "  return theta/2*(sinc((u-n)*theta/pi) + sinc((u+n+1)*theta/pi))\r\n",
        "\r\n",
        "def F_S(u,n,theta):\r\n",
        "  S_mat = []\r\n",
        "  for i_ in range(0, len(theta)):\r\n",
        "    if theta[i_][i_] == 0:\r\n",
        "        S_mat.append(0)\r\n",
        "    else:\r\n",
        "        S_mat.append(2/pi*(F_Q(u,n,theta[i_][i_]) - F_Q(u,0,theta[i_][i_])*F_Q(0,n,theta[i_][i_])/F_Q(0,0,theta[i_][i_])))\r\n",
        "  return diag(S_mat)\r\n",
        "\r\n",
        "def F_SphericalFunction(z,n):\r\n",
        "  N = len(z)\r\n",
        "  Z1 = zeros((N,N,n),dtype = 'complex_');  Z3 = zeros((N,N,n),dtype = 'complex_');  K1 = zeros((N,N,n),dtype = 'complex_');  K3 = zeros((N,N,n),dtype = 'complex_')\r\n",
        "  n_ =  list(range(1,n+1))\r\n",
        "  for i_ in range(0, N):\r\n",
        "    Z1[i_][i_][:] = spherical_jn(n_, z[i_][i_], derivative=False)\r\n",
        "    Z2            = spherical_yn(n_, z[i_][i_], derivative=False)\r\n",
        "    Z3[i_][i_][:] = Z1[i_][i_][:] - 1j*Z2;\r\n",
        "\r\n",
        "    K1[i_][i_][:] = spherical_jn(n_, z[i_][i_], derivative=True) + Z1[i_][i_][:]/z[i_][i_]\r\n",
        "    K2            = spherical_yn(n_, z[i_][i_], derivative=True) + Z2           /z[i_][i_]\r\n",
        "    K3[i_][i_][:] = K1[i_][i_][:] - 1j*K2;\r\n",
        "\r\n",
        "  return Z1, Z3, K1, K3\r\n",
        "\r\n",
        "def S_ProbeFedA(k0r, Ang1, Ang2):\r\n",
        "  frq = 9*10**9\r\n",
        "  c0  = 299792458\r\n",
        "  k0  = 2*pi*frq/c0\r\n",
        "\r\n",
        "  r    = diag([           1.000,    0.970])*k0r/k0\r\n",
        "  th_r = diag([           Ang1 ,     Ang2])*pi/180\r\n",
        "  ep_r = diag([  1.000,   1.300,    1.000])\r\n",
        "  mu_r = diag([  1.000,   1.000,    1.000])\r\n",
        "\r\n",
        "  return r, th_r, ep_r, mu_r, k0\r\n",
        "\r\n",
        "def S_ProbeFedB():\r\n",
        "  frq = 9*10**9\r\n",
        "  c0  = 299792458\r\n",
        "  k0  = 2*pi*frq/c0\r\n",
        "\r\n",
        "  r    = diag([           0.038,   0.035])\r\n",
        "  th_r = diag([          16.000, 160.000])*pi/180\r\n",
        "  ep_r = diag([  1.000,   1.230,   1.000])\r\n",
        "  mu_r = diag([  1.000,   1.000,   1.000])\r\n",
        "\r\n",
        "  return r, th_r, ep_r, mu_r, k0\r\n",
        "\r\n",
        "def S_ProbeFedDLL(k0r, Ang1, Ang2):\r\n",
        "  frq = 5*10**9\r\n",
        "  c0  = 299792458\r\n",
        "  k0  = 2*pi*frq/c0\r\n",
        "\r\n",
        "  L  = 6\r\n",
        "  N  = L + 1\r\n",
        "  tx = 0.75\r\n",
        "\r\n",
        "  i_   = array(range(N-1,0,-1))\r\n",
        "  r__i = list(i_/(N-1))\r\n",
        "  th_i = list(zeros(N-2))\r\n",
        "  ep_i = list(2 - ((2*i_-1)/(2*(N-1)))**2)\r\n",
        "  mu_i = list(ones(N-1))\r\n",
        "\r\n",
        "  r    = diag([       1.000] + r__i)*k0r/k0\r\n",
        "  th_r = diag([ Ang1,  Ang2] + th_i)*pi/180\r\n",
        "  ep_r = diag([1.000, 1.000] + ep_i)       \r\n",
        "  mu_r = diag([1.000, 1.000] + mu_i)       \r\n",
        "\r\n",
        "  return r, th_r, ep_r, mu_r, k0\r\n",
        "\r\n",
        "def F_Formulation(n,k0r,Lens,Ang1,Ang2):\r\n",
        "  if Lens == \"A\": [r, th_r, ep_r, mu_r, k__0] = S_ProbeFedA(k0r,Ang1,Ang2)\r\n",
        "  elif Lens == \"B\": [r, th_r, ep_r, mu_r, k__0] = S_ProbeFedB()\r\n",
        "  else:             [r, th_r, ep_r, mu_r, k__0] = S_ProbeFedDLL(k0r,Ang1,Ang2)\r\n",
        "  N = len(r); src = 1; c0  = 299792458; et_0 = 4*pi*10**(-7)*c0;\r\n",
        "  CZ = zeros((N,N,n),dtype = 'complex_'); G_ = zeros((N,N,n),dtype = 'complex_'); Yk_ = zeros((n,N),dtype = 'complex_'); Yz_ = zeros((n,N),dtype = 'complex_');\r\n",
        "\r\n",
        "  k_i0 = k__0*sqrt(mult(mu_r[0:N  ,0:N  ],ep_r[0:N  ,0:N  ]));  et_i0 = et_0*sqrt(mult(mu_r[0:N  ,0:N  ],inv(ep_r[0:N  ,0:N  ])))\r\n",
        "  k_i1 = k__0*sqrt(mult(mu_r[1:N+1,1:N+1],ep_r[1:N+1,1:N+1]));  et_i1 = et_0*sqrt(mult(mu_r[1:N+1,1:N+1],inv(ep_r[1:N+1,1:N+1])))\r\n",
        "  fk   = ones(n); fz = (2*array(range(1,n+1))+1)/(array(range(1,n+1))*(array(range(1,n+1))+1));             Omg   = - inv(r/2*(mult(k_i0,inv(et_i0)) + mult(k_i1,inv(et_i1))))\r\n",
        "\r\n",
        "  Ii = diag(ones(N-1),-1); di0 = array(list(map(int, src == array(range(0,N  )))))\r\n",
        "  Is = diag(ones(N-1), 1); di1 = array(list(map(int, src == array(range(1,N+1)))))\r\n",
        "\r\n",
        "  [Z1_i0,Z3_i0,K1_i0,K3_i0] = F_SphericalFunction(mult(k_i0,r),n);  [Z1_i1,Z3_i1,K1_i1,K3_i1] = F_SphericalFunction(mult(k_i1,r),n);\r\n",
        "\r\n",
        "  for n_ in range(0, n):\r\n",
        "    K1D =      K1_i1[:,:,n_];             K1E = mult(     K1_i0[:,:,n_]           ,Ii);    K1F =      K1_i0[:,:,n_];      \t      K1T = K1D - K1E;\r\n",
        "    K3D =      K3_i0[:,:,n_];  \t          K3E = mult(     K3_i1[:,:,n_]           ,Is);    K3F =      K3_i1[:,:,n_];              K3T = K3D - K3E;\r\n",
        "    Z1D = mult(Z1_i1[:,:,n_],inv(et_i1)); Z1E = mult(mult(Z1_i0[:,:,n_],inv(et_i0)),Ii);   Z1F = mult(Z1_i0[:,:,n_],inv(et_i0));\tZ1T = Z1D - Z1E;\r\n",
        "    Z3D = mult(Z3_i0[:,:,n_],inv(et_i0));\tZ3E = mult(mult(Z3_i1[:,:,n_],inv(et_i1)),Is);   Z3F = mult(Z3_i1[:,:,n_],inv(et_i1));\tZ3T = Z3D - Z3E;\r\n",
        "\r\n",
        "    CKn   = K3D + mult(mult(K1E,inv(K1T)),K3T);                       CZn  = Z3T - mult(mult(Z1T,inv(K1T)),K3T);                      CZ[:,:,n_] = CZn;\r\n",
        "\r\n",
        "    Del = -(2*(n_+1)+1)*(mu_r[src,src]/(4.*pi*r[src,src]));               Del1 =  Z1_i0[src,src,n_]*Del*di1;                              Del2 =  Z3_i0[src,src,n_]*Del*di0;\r\n",
        "    Ckn1 = mult(      mult(mult(K1E,inv(K1T)),K3F),Del1);             Ckn2 = - mult(mult(eye(N) +      mult(K1E,inv(K1T)),K1F),Del2)\r\n",
        "    Czn1 = mult(Z3F - mult(mult(Z1T,inv(K1T)),K3F),Del1);             Czn2 = -      mult( Z1F   - mult(mult(Z1T,inv(K1T)),K1F),Del2)\r\n",
        "\r\n",
        "    G_[:,:,n_] = eye(N) - fz[n_]/fk[n_]*mult(CKn,inv(mult(Omg,CZn))); Yk_ [n_,:] = mult(inv(Omg),Ckn1 + Ckn2)*fk[n_];                 Yz_ [n_,:] = (Czn1 + Czn2)/fz[n_]\r\n",
        "\r\n",
        "  A_ = zeros((n,N,n,N),dtype = 'complex_'); S_ = zeros((n,N,n,N),dtype = 'complex_'); B3 = zeros((N,n),dtype = 'complex_');           P1n = zeros((1000,n),dtype = 'complex_');\r\n",
        "  for u_ in range(0, n):\r\n",
        "    for n_ in range(0, n):\r\n",
        "      A_[u_,:,n_,:] = mult(mult(F_S(u_+1,n_+1,th_r),inv(Omg)),mult(G_[:,:,n_],Omg))\r\n",
        "      S_[u_,:,n_,:] =      F_S(u_+1,n_+1,th_r)\r\n",
        "\r\n",
        "  A = reshape(A_,(N*n,N*n));  S = reshape(S_,(N*n,N*n));  \r\n",
        "  Yk = reshape(Yk_,(N*n));  Yz = reshape(Yz_,(N*n));  \r\n",
        "  B = Yz + mult(S,(Yk - Yz)); \r\n",
        "  X_ = mult(inv(eye(N*n)-A),B); X = reshape(X_,(n,N))\r\n",
        "\r\n",
        "  for n_ in range(n):\r\n",
        "    B3[:,n_] = fz[n_]*mult(inv(CZ[:,:,n_]),X[n_,:])\r\n",
        "\r\n",
        "  return X[:,0], B3\r\n",
        "\r\n",
        "def F_plot(B,p,n):\r\n",
        "  P1n = zeros((1000,n),dtype = 'complex_');\r\n",
        "  Cos = cos(arange(0,2*pi,pi/500))\r\n",
        "  for i_ in range(1000):\r\n",
        "    Pmn = lpmn(1, n,Cos[i_])\r\n",
        "    P1n[i_,:] = Pmn[0][1][1:n+1]\r\n",
        "\r\n",
        "  ffp = abs(mult(mult(P1n,diag(B[0,:])),(1j)**arange(1,n+1)))+1\r\n",
        "  FFP = ffp/amax(ffp)\r\n",
        "\r\n",
        "  plt.plot(arange(0,2*pi,pi/500)*180/pi,20*log10(FFP))\r\n",
        "  plt.xlabel('Theta [deg]')  # string must be enclosed with quotes '  '\r\n",
        "  plt.ylabel('dB20normalize(rETotal)')\r\n",
        "  plt.title('Diagrama de Campo Distante')\r\n",
        "  plt.grid(True)\r\n",
        "  plt.show()"
      ],
      "execution_count": 30,
      "outputs": []
    },
    {
      "cell_type": "code",
      "metadata": {
        "colab": {
          "base_uri": "https://localhost:8080/",
          "height": 295
        },
        "id": "QQ5r0D4yfPRi",
        "outputId": "e1cc20ab-eb5b-4533-da83-ba1e6aec9687"
      },
      "source": [
        "n = 50\r\n",
        "[X,B] = F_Formulation(n,9.94,'A',18,180)\r\n",
        "F_plot(B,'cart',n)"
      ],
      "execution_count": 31,
      "outputs": [
        {
          "output_type": "display_data",
          "data": {
            "image/png": "[encoded data removed]",
            "text/plain": [
              "<Figure size 432x288 with 1 Axes>"
            ]
          },
          "metadata": {
            "tags": [],
            "needs_background": "light"
          }
        }
      ]
    },
    {
      "cell_type": "code",
      "metadata": {
        "colab": {
          "base_uri": "https://localhost:8080/"
        },
        "id": "NSad0LnoQvJ4",
        "outputId": "6c581088-690d-4f67-c8da-d49a1ae55196"
      },
      "source": [
        "n = 5\r\n",
        "k0r = 20.94\r\n",
        "Lens = \"D\"\r\n",
        "\r\n",
        "[X,B] = F_Formulation(n,k0r,Lens,2*Ang2,Ang2)\r\n",
        "\r\n",
        "X"
      ],
      "execution_count": 33,
      "outputs": [
        {
          "output_type": "execute_result",
          "data": {
            "text/plain": [
              "array([5.67119394e-06+1.11741260e-05j, 1.65448226e-05+4.48316242e-04j,\n",
              "       3.17212417e-05-2.81775857e-04j, 4.99425451e-05+6.95003180e-04j,\n",
              "       6.96939506e-05+1.04006946e-02j])"
            ]
          },
          "metadata": {
            "tags": []
          },
          "execution_count": 33
        }
      ]
    },
    {
      "cell_type": "code",
      "metadata": {
        "id": "s0q-CUbXQ0_w"
      },
      "source": [
        ""
      ],
      "execution_count": null,
      "outputs": []
    }
  ]
}