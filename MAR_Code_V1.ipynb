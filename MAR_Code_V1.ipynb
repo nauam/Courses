{
  "nbformat": 4,
  "nbformat_minor": 0,
  "metadata": {
    "colab": {
      "name": "MAR_Code_V1.ipynb",
      "provenance": [],
      "collapsed_sections": [],
      "authorship_tag": "ABX9TyMvJZneNaJzaYwiBPRz17G3",
      "include_colab_link": true
    },
    "kernelspec": {
      "name": "python3",
      "display_name": "Python 3"
    }
  },
  "cells": [
    {
      "cell_type": "markdown",
      "metadata": {
        "id": "view-in-github",
        "colab_type": "text"
      },
      "source": [
        "<a href=\"https://colab.research.google.com/github/nauam/UnB_MAR/blob/main/MAR_Code_V1.ipynb\" target=\"_parent\"><img src=\"https://colab.research.google.com/assets/colab-badge.svg\" alt=\"Open In Colab\"/></a>"
      ]
    },
    {
      "cell_type": "code",
      "metadata": {
        "id": "voYCjbOirZ9X"
      },
      "source": [
        "from numpy import sinc, pi, sin, diag, matmul as mult, array, zeros, ones, eye, sqrt\r\n",
        "from numpy.linalg  import inv\r\n",
        "from scipy.special import spherical_jn, spherical_yn"
      ],
      "execution_count": 80,
      "outputs": []
    },
    {
      "cell_type": "code",
      "metadata": {
        "id": "AfuT8x1Ysc7j"
      },
      "source": [
        "def F_Q(u,n,theta):\r\n",
        "  return theta/2*(sinc((u-n)*theta/pi) + sinc((u+n+1)*theta/pi))\r\n",
        "\r\n",
        "def F_S(u,n,theta):\r\n",
        "  S_mat = []\r\n",
        "  for i_ in range(0, len(theta)):\r\n",
        "    if theta[i_][i_] == 0:\r\n",
        "        S_mat.append(0)\r\n",
        "    else:\r\n",
        "        S_mat.append(2/pi*(M__Q(u,n,theta[i_][i_]) - M__Q(u,0,theta[i_][i_])*M__Q(0,n,theta[i_][i_])/M__Q(0,0,theta[i_][i_])))\r\n",
        "  return diag(S_mat)\r\n",
        "\r\n",
        "def F_SphericalFunction(z,n):\r\n",
        "  N = len(z)\r\n",
        "  Z1 = zeros((N,N,n),dtype = 'complex_');  Z3 = zeros((N,N,n),dtype = 'complex_');  K1 = zeros((N,N,n),dtype = 'complex_');  K3 = zeros((N,N,n),dtype = 'complex_')\r\n",
        "  n_ =  list(range(1,n+1))\r\n",
        "  for i_ in range(0, N):\r\n",
        "    Z1[i_][i_][:] = spherical_jn(n_, z[i_][i_], derivative=False)\r\n",
        "    Z2            = spherical_yn(n_, z[i_][i_], derivative=False)\r\n",
        "    Z3[i_][i_][:] = Z1[i_][i_][:] + 1j*Z2;\r\n",
        "\r\n",
        "    K1[i_][i_][:] = spherical_jn(n_, z[i_][i_], derivative=True) + Z1[i_][i_][:]/z[i_][i_]\r\n",
        "    K2            = spherical_yn(n_, z[i_][i_], derivative=True) + Z2           /z[i_][i_]\r\n",
        "    K3[i_][i_][:] = K1[i_][i_][:] + 1j*K2;\r\n",
        "\r\n",
        "  return Z1, Z3, K1, K3\r\n",
        "\r\n",
        "def S_ProbeFedA(k0r, Ang1, Ang2):\r\n",
        "  frq = 9*10**9\r\n",
        "  c0  = 299792458\r\n",
        "  k0  = 2*pi*frq/c0\r\n",
        "\r\n",
        "  r    = diag([           1.000,    0.970])*k0r/k0\r\n",
        "  th_r = diag([           Ang1 ,     Ang2])*pi/180\r\n",
        "  ep_r = diag([  1.000,   1.300,    1.000])\r\n",
        "  mu_r = diag([  1.000,   1.000,    1.000])\r\n",
        "\r\n",
        "  return r, th_r, ep_r, mu_r, k0\r\n",
        "\r\n",
        "def S_ProbeFedB():\r\n",
        "  frq = 9*10**9\r\n",
        "  c0  = 299792458\r\n",
        "  k0  = 2*pi*frq/c0\r\n",
        "\r\n",
        "  r    = diag([           0.038,   0.035])\r\n",
        "  th_r = diag([          16.000, 160.000])*pi/180\r\n",
        "  ep_r = diag([  1.000,   1.230,   1.000])\r\n",
        "  mu_r = diag([  1.000,   1.000,   1.000])\r\n",
        "\r\n",
        "  return r, th_r, ep_r, mu_r, k0\r\n",
        "\r\n",
        "def S_ProbeFedDLL(k0r, Ang1, Ang2):\r\n",
        "  frq = 5*10**9\r\n",
        "  c0  = 299792458\r\n",
        "  k0  = 2*pi*frq/c0\r\n",
        "\r\n",
        "  L  = 6\r\n",
        "  N  = L + 1\r\n",
        "  tx = 0.75\r\n",
        "\r\n",
        "  i_   = array(range(N-1,0,-1))\r\n",
        "  r__i = list(i_/(N-1))\r\n",
        "  th_i = list(zeros(N-2))\r\n",
        "  ep_i = list(2 - ((2*i_-1)/(2*(N-1)))**2)\r\n",
        "  mu_i = list(ones(N-1))\r\n",
        "\r\n",
        "  r    = diag([       1.000] + r__i)*k0r/k0\r\n",
        "  th_r = diag([ Ang1,  Ang2] + th_i)*pi/180\r\n",
        "  ep_r = diag([1.000, 1.000] + ep_i)       \r\n",
        "  mu_r = diag([1.000, 1.000] + mu_i)       \r\n",
        "\r\n",
        "  return r, th_r, ep_r, mu_r, k0\r\n",
        "\r\n"
      ],
      "execution_count": 277,
      "outputs": []
    },
    {
      "cell_type": "code",
      "metadata": {
        "id": "rbtDRTV7I-fZ"
      },
      "source": [
        "k0r = 9.95; n = 5; p = \"cart\"; Lens = \"B\"; Ang1 = 18; Ang2 = 180; src = 1; c0  = 299792458; et_0 = 4*pi*10**(-7)*c0;\r\n",
        "\r\n",
        "if Lens == \"A\":\r\n",
        "  [r, th_r, ep_r, mu_r, k__0] = S_ProbeFedA(k0r,Ang1,Ang2)\r\n",
        "elif Lens == \"B\":\r\n",
        "  [r, th_r, ep_r, mu_r, k__0] = S_ProbeFedB()\r\n",
        "else: #Lens == \"C\"\r\n",
        "  [r, th_r, ep_r, mu_r, k__0] = S_ProbeFedDLL(k0r,Ang1,Ang2)\r\n",
        "\r\n",
        "N = len(r)\r\n",
        "\r\n",
        "k_i0 = k__0*sqrt(mult(mu_r[0:N  ,0:N  ],ep_r[0:N  ,0:N  ]));  et_i0 = et_0*sqrt(mult(mu_r[0:N  ,0:N  ],inv(ep_r[0:N  ,0:N  ])))\r\n",
        "k_i1 = k__0*sqrt(mult(mu_r[1:N+1,1:N+1],ep_r[1:N+1,1:N+1]));  et_i1 = et_0*sqrt(mult(mu_r[1:N+1,1:N+1],inv(ep_r[1:N+1,1:N+1])))\r\n",
        "\r\n",
        "Ii = diag(ones(N-1),-1); di0 = array(list(map(int, src == array(range(0,N  )))))\r\n",
        "Is = diag(ones(N-1), 1); di1 = array(list(map(int, src == array(range(1,N+1)))))\r\n",
        "\r\n",
        "fk = ones(n); fz = 1/(2*array(range(1,n+1))+1); Omg = - inv(r*2*(mult(k_i0,inv(et_i0)) + mult(k_i1,inv(et_i1))))\r\n",
        "\r\n",
        "[Z1_i0,Z3_i0,K1_i0,K3_i0] = F_SphericalFunction(mult(k_i0,r),n);\r\n",
        "[Z1_i1,Z3_i1,K1_i1,K3_i1] = F_SphericalFunction(mult(k_i1,r),n);"
      ],
      "execution_count": 278,
      "outputs": []
    },
    {
      "cell_type": "code",
      "metadata": {
        "id": "H4vQZ6RXRtiD"
      },
      "source": [
        ""
      ],
      "execution_count": 279,
      "outputs": []
    }
  ]
}